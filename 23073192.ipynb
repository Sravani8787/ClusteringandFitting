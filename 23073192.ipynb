{
 "cells": [
  {
   "cell_type": "code",
   "execution_count": null,
   "metadata": {
    "colab": {
     "base_uri": "https://localhost:8080/",
     "height": 298
    },
    "id": "EBu8LD7YKhos",
    "outputId": "b2ef015c-2eb5-4558-85b8-7b5411ea9087"
   },
   "outputs": [],
   "source": [
    "import pandas as pd\n",
    "import numpy as np\n",
    "import matplotlib.pyplot as plt\n",
    "import seaborn as sns\n",
    "from sklearn.linear_model import LinearRegression\n",
    "from sklearn.cluster import KMeans"
   ]
  },
  {
   "cell_type": "code",
   "execution_count": null,
   "metadata": {
    "colab": {
     "base_uri": "https://localhost:8080/",
     "height": 564
    },
    "id": "vWQSK6QZNoIQ",
    "outputId": "a5368930-e088-451a-9bee-7069ade504d0"
   },
   "outputs": [],
   "source": [
    "# Load the dataset\n",
    "data = pd.read_csv(\"StudentsPerformance.csv\")\n",
    "print(data.head())"
   ]
  },
  {
   "cell_type": "code",
   "execution_count": null,
   "metadata": {
    "colab": {
     "base_uri": "https://localhost:8080/",
     "height": 564
    },
    "id": "nm0gmmmZOkcB",
    "outputId": "04d3008a-c314-4437-9886-6d074fa3506b"
   },
   "outputs": [],
   "source": [
    "#Histogram plot\n",
    "def plot_histogram(data):\n",
    "    plt.figure(figsize=(8, 6))\n",
    "    sns.histplot(data['math score'], bins=20, kde=True, color='blue')\n",
    "    plt.title('Distribution of Math Scores')\n",
    "    plt.xlabel('Math Score')\n",
    "    plt.ylabel('Frequency')\n",
    "    plt.show()\n",
    "\n",
    "plot_histogram(data)"
   ]
  },
  {
   "cell_type": "code",
   "execution_count": null,
   "metadata": {
    "colab": {
     "base_uri": "https://localhost:8080/",
     "height": 545
    },
    "id": "Xr-zFPi3Oqeh",
    "outputId": "79fc1ec1-352b-41b4-eacc-808035c34bf7"
   },
   "outputs": [],
   "source": [
    "def plot_scatter_with_line(data):\n",
    "    plt.figure(figsize=(8, 6))\n",
    "    sns.scatterplot(x='reading score', y='writing score', data=data, color='green', edgecolor='w')\n",
    "    \n",
    "    # Fit a line\n",
    "    x = data['reading score'].values.reshape(-1, 1)\n",
    "    y = data['writing score'].values\n",
    "    model = LinearRegression()\n",
    "    model.fit(x, y)\n",
    "    y_pred = model.predict(x)\n",
    "    \n",
    "    plt.plot(data['reading score'], y_pred, color='red', linewidth=2, label='Line of Best Fit')\n",
    "    plt.title('Reading Score vs Writing Score')\n",
    "    plt.xlabel('Reading Score')\n",
    "    plt.ylabel('Writing Score')\n",
    "    plt.legend()\n",
    "    plt.show()\n",
    "\n",
    "plot_scatter_with_line(data)"
   ]
  },
  {
   "cell_type": "code",
   "execution_count": null,
   "metadata": {
    "colab": {
     "base_uri": "https://localhost:8080/",
     "height": 564
    },
    "id": "N8tVqBL0Ot1w",
    "outputId": "abcd987b-67c5-41f8-a292-c4507b92bb5b"
   },
   "outputs": [],
   "source": [
    "# Plot 3: Heatmap for correlations between scores\n",
    "def plot_heatmap(data):\n",
    "    plt.figure(figsize=(8, 6))\n",
    "    score_data = data[['math score', 'reading score', 'writing score']]\n",
    "    correlation_matrix = score_data.corr()\n",
    "    sns.heatmap(correlation_matrix, annot=True, cmap='coolwarm', fmt='.2f')\n",
    "    plt.title('Correlation Heatmap of Scores')\n",
    "    plt.show()\n",
    "\n",
    "plot_heatmap(data)"
   ]
  },
  {
   "cell_type": "code",
   "execution_count": null,
   "metadata": {},
   "outputs": [],
   "source": [
    "import os\n",
    "os.environ[\"LOKY_MAX_CPU_COUNT\"] = \"4\"  # Replace 4 with your actual number of physical cores\n",
    "\n",
    "from sklearn.cluster import KMeans\n",
    "import matplotlib.pyplot as plt\n",
    "\n",
    "# Plot 4: Elbow plot for k-means clustering\n",
    "def plot_elbow(data):\n",
    "    scores = data[['math score', 'reading score', 'writing score']].values\n",
    "    distortions = []\n",
    "    K = range(1, 10)\n",
    "    for k in K:\n",
    "        kmeans = KMeans(n_clusters=k, n_init='auto', random_state=42)\n",
    "        kmeans.fit(scores)\n",
    "        distortions.append(kmeans.inertia_)\n",
    "\n",
    "    plt.figure(figsize=(8, 6))\n",
    "    plt.plot(K, distortions, marker='o', linestyle='--', color='purple')\n",
    "    plt.title('Elbow Method for Optimal k')\n",
    "    plt.xlabel('Number of Clusters (k)')\n",
    "    plt.ylabel('Distortion')\n",
    "    plt.show()\n",
    "\n",
    "# Call the function with your dataset\n",
    "plot_elbow(data)\n"
   ]
  },
  {
   "cell_type": "code",
   "execution_count": null,
   "metadata": {},
   "outputs": [],
   "source": []
  },
  {
   "cell_type": "code",
   "execution_count": null,
   "metadata": {},
   "outputs": [],
   "source": []
  }
 ],
 "metadata": {
  "colab": {
   "provenance": []
  },
  "kernelspec": {
   "display_name": "Python 3 (ipykernel)",
   "language": "python",
   "name": "python3"
  },
  "language_info": {
   "codemirror_mode": {
    "name": "ipython",
    "version": 3
   },
   "file_extension": ".py",
   "mimetype": "text/x-python",
   "name": "python",
   "nbconvert_exporter": "python",
   "pygments_lexer": "ipython3",
   "version": "3.12.7"
  }
 },
 "nbformat": 4,
 "nbformat_minor": 4
}
